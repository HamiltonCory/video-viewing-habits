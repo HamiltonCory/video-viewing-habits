{
 "cells": [
  {
   "cell_type": "code",
   "execution_count": null,
   "metadata": {
    "collapsed": true
   },
   "outputs": [],
   "source": [
    "import sqlite3, csv\n",
    "import pandas\n",
    "\n",
    "#df = pandas.read_csv(csvfile)\n",
    "#df.to_sql(table_name, conn, if_exists='append', index=False)\n",
    "\n",
    "\n",
    "con = sqlite3.connect(\":memory:\")\n",
    "cur = con.cursor()\n",
    "cur.execute(\"CREATE TABLE plays (vuid,seconds_viewed,category);\") # use your column names here\n",
    "\n",
    "with open('data.csv','rb') as fin: # `with` statement available in 2.5+\n",
    "    # csv.DictReader uses first line in file for column headings by default\n",
    "    dr = csv.DictReader(fin) # comma is default delimiter\n",
    "    to_db = [(i['col1'], i['col2']) for i in dr]\n",
    "\n",
    "cur.executemany(\"INSERT INTO plays (vuid,seconds_viewed,category) VALUES (?, ?,?);\", to_db)\n",
    "con.commit()\n",
    "con.close()"
   ]
  }
 ],
 "metadata": {
  "kernelspec": {
   "display_name": "Python [Root]",
   "language": "python",
   "name": "Python [Root]"
  },
  "language_info": {
   "codemirror_mode": {
    "name": "ipython",
    "version": 2
   },
   "file_extension": ".py",
   "mimetype": "text/x-python",
   "name": "python",
   "nbconvert_exporter": "python",
   "pygments_lexer": "ipython2",
   "version": "2.7.12"
  }
 },
 "nbformat": 4,
 "nbformat_minor": 0
}
